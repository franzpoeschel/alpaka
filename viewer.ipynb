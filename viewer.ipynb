{
 "cells": [
  {
   "cell_type": "code",
   "execution_count": null,
   "id": "deeb6433-26b7-4120-88fa-34bf5233af13",
   "metadata": {},
   "outputs": [],
   "source": [
    "import numpy as np\n",
    "import matplotlib.pyplot as plt\n",
    "from openpmd_viewer import OpenPMDTimeSeries\n",
    "import openpmd_api as opmd\n",
    "opmd.file_extensions\n",
    "path = \"/pfs/lustrep3/scratch/project_465001310/poeschel/2024-09-20/8_v1/simOutput/openPMD\""
   ]
  },
  {
   "cell_type": "code",
   "execution_count": null,
   "id": "978d9c65-4b71-44c2-a9d5-ce1c584d889b",
   "metadata": {},
   "outputs": [],
   "source": [
    "ts = OpenPMDTimeSeries(path)"
   ]
  },
  {
   "cell_type": "code",
   "execution_count": null,
   "id": "57de4c53-3a43-45cd-90a5-0b1d6dd603b7",
   "metadata": {},
   "outputs": [],
   "source": [
    "%matplotlib ipympl\n",
    "ts.slider()"
   ]
  }
 ],
 "metadata": {
  "kernelspec": {
   "display_name": "Python 3 (ipykernel)",
   "language": "python",
   "name": "python3"
  },
  "language_info": {
   "codemirror_mode": {
    "name": "ipython",
    "version": 3
   },
   "file_extension": ".py",
   "mimetype": "text/x-python",
   "name": "python",
   "nbconvert_exporter": "python",
   "pygments_lexer": "ipython3",
   "version": "3.11.7"
  }
 },
 "nbformat": 4,
 "nbformat_minor": 5
}
