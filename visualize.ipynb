{
 "cells": [
  {
   "cell_type": "code",
   "execution_count": null,
   "id": "38d8da3c-85f3-4729-95f2-ec2731e50962",
   "metadata": {},
   "outputs": [],
   "source": [
    "%matplotlib inline\n",
    "import example.heatEquation2D.src.visualize as vis\n",
    "filename = \"build/heat.sst\"\n",
    "vis.main(filename)"
   ]
  }
 ],
 "metadata": {
  "kernelspec": {
   "display_name": "Python 3 (ipykernel)",
   "language": "python",
   "name": "python3"
  },
  "language_info": {
   "codemirror_mode": {
    "name": "ipython",
    "version": 3
   },
   "file_extension": ".py",
   "mimetype": "text/x-python",
   "name": "python",
   "nbconvert_exporter": "python",
   "pygments_lexer": "ipython3",
   "version": "3.11.7"
  }
 },
 "nbformat": 4,
 "nbformat_minor": 5
}
